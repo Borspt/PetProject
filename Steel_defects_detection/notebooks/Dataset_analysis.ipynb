{
 "cells": [
  {
   "cell_type": "code",
   "execution_count": 38,
   "id": "232c2cab",
   "metadata": {},
   "outputs": [],
   "source": [
    "import os\n",
    "import glob\n",
    "import pandas as pd\n",
    "import numpy as np\n",
    "from matplotlib import pyplot as plt\n",
    "from lxml import etree\n",
    "from IPython.display import Image\n",
    "%matplotlib inline"
   ]
  },
  {
   "cell_type": "code",
   "execution_count": 2,
   "id": "81c9a3a7",
   "metadata": {},
   "outputs": [
    {
     "name": "stdout",
     "output_type": "stream",
     "text": [
      "['crease', 'crescent_gap', 'inclusion', 'oil_spot', 'punching_hole', 'rolled_pit', 'silk_spot', 'waist folding', 'water_spot', 'welding_line']\n"
     ]
    }
   ],
   "source": [
    "classes = os.listdir('../data/raw/images/images')\n",
    "print(classes)"
   ]
  },
  {
   "cell_type": "code",
   "execution_count": 37,
   "id": "60a42fb9",
   "metadata": {},
   "outputs": [
    {
     "data": {
      "text/html": [
       "<img src=\"https://storage.googleapis.com/kaggle-datasets-images/729820/1267148/5900f6392769c25da1794909f0596447/dataset-card.jpg\"/>"
      ],
      "text/plain": [
       "<IPython.core.display.Image object>"
      ]
     },
     "execution_count": 37,
     "metadata": {},
     "output_type": "execute_result"
    }
   ],
   "source": [
    "Image(url= \"https://storage.googleapis.com/kaggle-datasets-images/729820/1267148/5900f6392769c25da1794909f0596447/dataset-card.jpg\")"
   ]
  },
  {
   "cell_type": "code",
   "execution_count": 3,
   "id": "c94f5873",
   "metadata": {},
   "outputs": [
    {
     "name": "stdout",
     "output_type": "stream",
     "text": [
      "2306\n",
      "../data/raw/images/images\\crease\\img_01_3436789500_00004.jpg\n"
     ]
    }
   ],
   "source": [
    "#Количество фото\n",
    "image_path = glob.glob('../data/raw/images/images/*/*.jpg')\n",
    "print(len(image_path))\n",
    "print(image_path[0])"
   ]
  },
  {
   "cell_type": "code",
   "execution_count": 4,
   "id": "610b6ba2",
   "metadata": {},
   "outputs": [
    {
     "name": "stdout",
     "output_type": "stream",
     "text": [
      "2280\n",
      "../data/raw/label/label\\img_01_3402617700_00001.xml\n"
     ]
    }
   ],
   "source": [
    "#Количество разметки\n",
    "xmls_path = glob.glob('../data/raw/label/label/*.xml')\n",
    "print(len(xmls_path))\n",
    "print(xmls_path[0])"
   ]
  },
  {
   "cell_type": "code",
   "execution_count": 5,
   "id": "f0545630",
   "metadata": {},
   "outputs": [],
   "source": [
    "#Распределение по классам\n",
    "class_distr= {}\n",
    "for val in classes:\n",
    "    class_distr[val] = len(glob.glob(f'../data/raw/images/images/{val}/*.jpg'))"
   ]
  },
  {
   "cell_type": "code",
   "execution_count": 6,
   "id": "c592e7ca",
   "metadata": {},
   "outputs": [
    {
     "name": "stdout",
     "output_type": "stream",
     "text": [
      "{'crease': 52, 'crescent_gap': 226, 'inclusion': 216, 'oil_spot': 204, 'punching_hole': 219, 'rolled_pit': 31, 'silk_spot': 650, 'waist folding': 146, 'water_spot': 289, 'welding_line': 273}\n"
     ]
    }
   ],
   "source": [
    "print(class_distr)"
   ]
  },
  {
   "cell_type": "code",
   "execution_count": 7,
   "id": "2b20b935",
   "metadata": {},
   "outputs": [],
   "source": [
    "class_table = pd.DataFrame.from_dict(data=class_distr, orient='index', columns = ['Amount'])\n",
    "class_table.loc['Total'] = class_table.sum(axis=0)"
   ]
  },
  {
   "cell_type": "code",
   "execution_count": 8,
   "id": "063cdac9",
   "metadata": {},
   "outputs": [
    {
     "data": {
      "text/html": [
       "<div>\n",
       "<style scoped>\n",
       "    .dataframe tbody tr th:only-of-type {\n",
       "        vertical-align: middle;\n",
       "    }\n",
       "\n",
       "    .dataframe tbody tr th {\n",
       "        vertical-align: top;\n",
       "    }\n",
       "\n",
       "    .dataframe thead th {\n",
       "        text-align: right;\n",
       "    }\n",
       "</style>\n",
       "<table border=\"1\" class=\"dataframe\">\n",
       "  <thead>\n",
       "    <tr style=\"text-align: right;\">\n",
       "      <th></th>\n",
       "      <th>Amount</th>\n",
       "    </tr>\n",
       "  </thead>\n",
       "  <tbody>\n",
       "    <tr>\n",
       "      <th>crease</th>\n",
       "      <td>52</td>\n",
       "    </tr>\n",
       "    <tr>\n",
       "      <th>crescent_gap</th>\n",
       "      <td>226</td>\n",
       "    </tr>\n",
       "    <tr>\n",
       "      <th>inclusion</th>\n",
       "      <td>216</td>\n",
       "    </tr>\n",
       "    <tr>\n",
       "      <th>oil_spot</th>\n",
       "      <td>204</td>\n",
       "    </tr>\n",
       "    <tr>\n",
       "      <th>punching_hole</th>\n",
       "      <td>219</td>\n",
       "    </tr>\n",
       "    <tr>\n",
       "      <th>rolled_pit</th>\n",
       "      <td>31</td>\n",
       "    </tr>\n",
       "    <tr>\n",
       "      <th>silk_spot</th>\n",
       "      <td>650</td>\n",
       "    </tr>\n",
       "    <tr>\n",
       "      <th>waist folding</th>\n",
       "      <td>146</td>\n",
       "    </tr>\n",
       "    <tr>\n",
       "      <th>water_spot</th>\n",
       "      <td>289</td>\n",
       "    </tr>\n",
       "    <tr>\n",
       "      <th>welding_line</th>\n",
       "      <td>273</td>\n",
       "    </tr>\n",
       "    <tr>\n",
       "      <th>Total</th>\n",
       "      <td>2306</td>\n",
       "    </tr>\n",
       "  </tbody>\n",
       "</table>\n",
       "</div>"
      ],
      "text/plain": [
       "               Amount\n",
       "crease             52\n",
       "crescent_gap      226\n",
       "inclusion         216\n",
       "oil_spot          204\n",
       "punching_hole     219\n",
       "rolled_pit         31\n",
       "silk_spot         650\n",
       "waist folding     146\n",
       "water_spot        289\n",
       "welding_line      273\n",
       "Total            2306"
      ]
     },
     "execution_count": 8,
     "metadata": {},
     "output_type": "execute_result"
    }
   ],
   "source": [
    "class_table"
   ]
  },
  {
   "cell_type": "code",
   "execution_count": 9,
   "id": "d2cec8f8",
   "metadata": {},
   "outputs": [
    {
     "data": {
      "image/png": "[encoded data removed]",
      "text/plain": [
       "<Figure size 1080x720 with 1 Axes>"
      ]
     },
     "metadata": {
      "needs_background": "light"
     },
     "output_type": "display_data"
    }
   ],
   "source": [
    "values = list(class_distr.values())\n",
    "labels = list(class_distr.keys())\n",
    "\n",
    "plt.figure(figsize=(15,10))\n",
    "plt.bar( labels, values, color='slategray')\n",
    "plt.title('Defects class distribution', fontdict={'fontsize':14})\n",
    "plt.show()"
   ]
  },
  {
   "cell_type": "code",
   "execution_count": 22,
   "id": "63184b14",
   "metadata": {},
   "outputs": [],
   "source": [
    "xmls_path.sort(key = lambda x:x.split(\"\\\\\")[-1].split(\".xml\")[0])\n",
    "image_path.sort(key = lambda x:x.split(\"\\\\\")[-1].split(\".jpg\")[0])"
   ]
  },
  {
   "cell_type": "code",
   "execution_count": 23,
   "id": "b1514923",
   "metadata": {},
   "outputs": [
    {
     "data": {
      "text/plain": [
       "['img_01_3402617700_00001',\n",
       " 'img_01_3402617700_01009',\n",
       " 'img_01_3436789500_00004',\n",
       " 'img_01_3436814600_00259',\n",
       " 'img_01_3436815300_00473']"
      ]
     },
     "execution_count": 23,
     "metadata": {},
     "output_type": "execute_result"
    }
   ],
   "source": [
    "xmls_train = [path.split(\"\\\\\")[-1].split(\".\")[0] for path in xmls_path]\n",
    "xmls_train[:5]"
   ]
  },
  {
   "cell_type": "code",
   "execution_count": 24,
   "id": "c5c79a21",
   "metadata": {},
   "outputs": [
    {
     "data": {
      "text/plain": [
       "['../data/raw/images/images\\\\crescent_gap\\\\img_01_3402617700_00001.jpg',\n",
       " '../data/raw/images/images\\\\crescent_gap\\\\img_01_3402617700_01009.jpg',\n",
       " '../data/raw/images/images\\\\crease\\\\img_01_3436789500_00004.jpg',\n",
       " '../data/raw/images/images\\\\silk_spot\\\\img_01_3436814600_00259.jpg',\n",
       " '../data/raw/images/images\\\\silk_spot\\\\img_01_3436815300_00473.jpg']"
      ]
     },
     "execution_count": 24,
     "metadata": {},
     "output_type": "execute_result"
    }
   ],
   "source": [
    "images_train = [img for img in image_path if (img.split(\"\\\\\")[-1].split)(\".jpg\")[0] in xmls_train]\n",
    "images_train[:5]"
   ]
  },
  {
   "cell_type": "code",
   "execution_count": 25,
   "id": "55ce7bac",
   "metadata": {},
   "outputs": [
    {
     "data": {
      "text/plain": [
       "2280"
      ]
     },
     "execution_count": 25,
     "metadata": {},
     "output_type": "execute_result"
    }
   ],
   "source": [
    "len(images_train)"
   ]
  },
  {
   "cell_type": "code",
   "execution_count": 26,
   "id": "c0faa07b",
   "metadata": {},
   "outputs": [],
   "source": [
    "def image_size(path):\n",
    "    \n",
    "    xml = open(\"{}\".format(path)).read()                         \n",
    "    sel = etree.HTML(xml)\n",
    "    \n",
    "    # Извлечение характеристик изображения\n",
    "    width = int(sel.xpath(\"//size/width/text()\")[0])\n",
    "    height = int(sel.xpath(\"//size/height/text()\")[0])\n",
    "    \n",
    "    return [width, height]"
   ]
  },
  {
   "cell_type": "code",
   "execution_count": 27,
   "id": "3eda0a71",
   "metadata": {},
   "outputs": [],
   "source": [
    "image_sizes = [image_size(path) for path in xmls_path]"
   ]
  },
  {
   "cell_type": "code",
   "execution_count": 44,
   "id": "cbbe5875",
   "metadata": {},
   "outputs": [
    {
     "name": "stdout",
     "output_type": "stream",
     "text": [
      "Средний размер картинки:[2048. 1000.], Среднее отклонение:[0. 0.]\n"
     ]
    }
   ],
   "source": [
    "image_sizes = np.array(image_sizes)\n",
    "print(f'Средний размер картинки:{image_sizes.mean(axis=0)}, Среднее отклонение:{image_sizes.std(axis=0)}')"
   ]
  },
  {
   "cell_type": "code",
   "execution_count": 20,
   "id": "e9c6889b",
   "metadata": {},
   "outputs": [],
   "source": [
    "def to_labels(path):\n",
    "    \n",
    "    xml = open(\"{}\".format(path)).read()                         \n",
    "    sel = etree.HTML(xml)\n",
    "    \n",
    "    # Извлечение характеристик изображения\n",
    "    width = int(sel.xpath(\"//size/width/text()\")[0])\n",
    "    height = int(sel.xpath(\"//size/height/text()\")[0]) \n",
    "    \n",
    "    # Извлечение параметров bounding box\n",
    "    xmin = int(sel.xpath(\"//bndbox/xmin/text()\")[0])\n",
    "    xmax = int(sel.xpath(\"//bndbox/xmax/text()\")[0])\n",
    "    ymin = int(sel.xpath(\"//bndbox/ymin/text()\")[0])\n",
    "    ymax = int(sel.xpath(\"//bndbox/ymax/text()\")[0])\n",
    "    \n",
    "    # Относительные координаты\n",
    "    return [xmin/width, ymin/height, xmax/width, ymax/height]"
   ]
  },
  {
   "cell_type": "code",
   "execution_count": null,
   "id": "0c448a67",
   "metadata": {},
   "outputs": [],
   "source": [
    "def load_image(path):\n",
    "    "
   ]
  }
 ],
 "metadata": {
  "kernelspec": {
   "display_name": "Python 3",
   "language": "python",
   "name": "python3"
  },
  "language_info": {
   "codemirror_mode": {
    "name": "ipython",
    "version": 3
   },
   "file_extension": ".py",
   "mimetype": "text/x-python",
   "name": "python",
   "nbconvert_exporter": "python",
   "pygments_lexer": "ipython3",
   "version": "3.8.8"
  }
 },
 "nbformat": 4,
 "nbformat_minor": 5
}
