{
 "cells": [
  {
   "cell_type": "code",
   "execution_count": 19,
   "id": "374b4f94",
   "metadata": {},
   "outputs": [],
   "source": [
    "import os\n",
    "import glob\n",
    "import pandas as pd"
   ]
  },
  {
   "cell_type": "code",
   "execution_count": 16,
   "id": "81c9a3a7",
   "metadata": {},
   "outputs": [
    {
     "name": "stdout",
     "output_type": "stream",
     "text": [
      "['crease', 'crescent_gap', 'inclusion', 'oil_spot', 'punching_hole', 'rolled_pit', 'silk_spot', 'waist folding', 'water_spot', 'welding_line']\n"
     ]
    }
   ],
   "source": [
    "classes = os.listdir('../data/raw/images/images')\n",
    "print(classes)"
   ]
  },
  {
   "cell_type": "code",
   "execution_count": 12,
   "id": "c94f5873",
   "metadata": {},
   "outputs": [
    {
     "name": "stdout",
     "output_type": "stream",
     "text": [
      "2306\n",
      "../data/raw/images/images\\crease\\img_01_3436789500_00004.jpg\n"
     ]
    }
   ],
   "source": [
    "#Количество фото\n",
    "image_path = glob.glob('../data/raw/images/images/*/*.jpg')\n",
    "print(len(image_path))\n",
    "print(image_path[0])"
   ]
  },
  {
   "cell_type": "code",
   "execution_count": 13,
   "id": "610b6ba2",
   "metadata": {},
   "outputs": [
    {
     "name": "stdout",
     "output_type": "stream",
     "text": [
      "../data/raw/label/label\\img_01_3402617700_00001.xml\n"
     ]
    }
   ],
   "source": [
    "#Количество разметки\n",
    "xmls_path = glob.glob('../data/raw/label/label/*.xml')\n",
    "len(xmls_path)\n",
    "print(xmls_path[0])"
   ]
  },
  {
   "cell_type": "code",
   "execution_count": 17,
   "id": "f0545630",
   "metadata": {},
   "outputs": [],
   "source": [
    "#Распределение по классам\n",
    "class_distr= {}\n",
    "for val in classes:\n",
    "    class_distr[val] = len(glob.glob(f'../data/raw/images/images/{val}/*.jpg'))"
   ]
  },
  {
   "cell_type": "code",
   "execution_count": 18,
   "id": "c592e7ca",
   "metadata": {},
   "outputs": [
    {
     "name": "stdout",
     "output_type": "stream",
     "text": [
      "{'crease': 52, 'crescent_gap': 226, 'inclusion': 216, 'oil_spot': 204, 'punching_hole': 219, 'rolled_pit': 31, 'silk_spot': 650, 'waist folding': 146, 'water_spot': 289, 'welding_line': 273}\n"
     ]
    }
   ],
   "source": [
    "print(class_distr)"
   ]
  },
  {
   "cell_type": "code",
   "execution_count": 52,
   "id": "2b20b935",
   "metadata": {},
   "outputs": [],
   "source": [
    "class_table = pd.DataFrame.from_dict(data=class_distr, orient='index', columns = ['Amount'])\n",
    "class_table.loc['Total'] = class_table.sum(axis=0)"
   ]
  },
  {
   "cell_type": "code",
   "execution_count": 53,
   "id": "063cdac9",
   "metadata": {},
   "outputs": [
    {
     "data": {
      "text/html": [
       "<div>\n",
       "<style scoped>\n",
       "    .dataframe tbody tr th:only-of-type {\n",
       "        vertical-align: middle;\n",
       "    }\n",
       "\n",
       "    .dataframe tbody tr th {\n",
       "        vertical-align: top;\n",
       "    }\n",
       "\n",
       "    .dataframe thead th {\n",
       "        text-align: right;\n",
       "    }\n",
       "</style>\n",
       "<table border=\"1\" class=\"dataframe\">\n",
       "  <thead>\n",
       "    <tr style=\"text-align: right;\">\n",
       "      <th></th>\n",
       "      <th>Amount</th>\n",
       "    </tr>\n",
       "  </thead>\n",
       "  <tbody>\n",
       "    <tr>\n",
       "      <th>crease</th>\n",
       "      <td>52</td>\n",
       "    </tr>\n",
       "    <tr>\n",
       "      <th>crescent_gap</th>\n",
       "      <td>226</td>\n",
       "    </tr>\n",
       "    <tr>\n",
       "      <th>inclusion</th>\n",
       "      <td>216</td>\n",
       "    </tr>\n",
       "    <tr>\n",
       "      <th>oil_spot</th>\n",
       "      <td>204</td>\n",
       "    </tr>\n",
       "    <tr>\n",
       "      <th>punching_hole</th>\n",
       "      <td>219</td>\n",
       "    </tr>\n",
       "    <tr>\n",
       "      <th>rolled_pit</th>\n",
       "      <td>31</td>\n",
       "    </tr>\n",
       "    <tr>\n",
       "      <th>silk_spot</th>\n",
       "      <td>650</td>\n",
       "    </tr>\n",
       "    <tr>\n",
       "      <th>waist folding</th>\n",
       "      <td>146</td>\n",
       "    </tr>\n",
       "    <tr>\n",
       "      <th>water_spot</th>\n",
       "      <td>289</td>\n",
       "    </tr>\n",
       "    <tr>\n",
       "      <th>welding_line</th>\n",
       "      <td>273</td>\n",
       "    </tr>\n",
       "    <tr>\n",
       "      <th>Total</th>\n",
       "      <td>2306</td>\n",
       "    </tr>\n",
       "  </tbody>\n",
       "</table>\n",
       "</div>"
      ],
      "text/plain": [
       "               Amount\n",
       "crease             52\n",
       "crescent_gap      226\n",
       "inclusion         216\n",
       "oil_spot          204\n",
       "punching_hole     219\n",
       "rolled_pit         31\n",
       "silk_spot         650\n",
       "waist folding     146\n",
       "water_spot        289\n",
       "welding_line      273\n",
       "Total            2306"
      ]
     },
     "execution_count": 53,
     "metadata": {},
     "output_type": "execute_result"
    }
   ],
   "source": [
    "class_table"
   ]
  },
  {
   "cell_type": "code",
   "execution_count": null,
   "id": "d2cec8f8",
   "metadata": {},
   "outputs": [],
   "source": []
  }
 ],
 "metadata": {
  "kernelspec": {
   "display_name": "Python 3",
   "language": "python",
   "name": "python3"
  },
  "language_info": {
   "codemirror_mode": {
    "name": "ipython",
    "version": 3
   },
   "file_extension": ".py",
   "mimetype": "text/x-python",
   "name": "python",
   "nbconvert_exporter": "python",
   "pygments_lexer": "ipython3",
   "version": "3.8.8"
  }
 },
 "nbformat": 4,
 "nbformat_minor": 5
}
